{
 "cells": [
  {
   "cell_type": "code",
   "execution_count": 6,
   "id": "2e186165-ce77-4f2c-92e4-920d447dc450",
   "metadata": {},
   "outputs": [
    {
     "name": "stdout",
     "output_type": "stream",
     "text": [
      "Original array: [ 1  2  3  4  5 20 21 27 31]\n",
      "Reversed array: [31 27 21 20  5  4  3  2  1]\n"
     ]
    }
   ],
   "source": [
    "import numpy as np\n",
    "arr = np.array([1,2,3,4,5,20,21,27,31])\n",
    "# Reverse the array, using slicing\n",
    "reversed_arr = arr[::-1]\n",
    "print(\"Original array:\", arr)\n",
    "print(\"Reversed array:\", reversed_arr)"
   ]
  },
  {
   "cell_type": "code",
   "execution_count": 3,
   "id": "bfded472-3f1a-4c39-b109-ff14e2807a8a",
   "metadata": {},
   "outputs": [
    {
     "name": "stdout",
     "output_type": "stream",
     "text": [
      "concatenated array along rows (axis=0):\n",
      " [[ 2  4  8]\n",
      " [ 3  6  9]\n",
      " [10 12 14]\n",
      " [12 15 18]]\n"
     ]
    }
   ],
   "source": [
    "#using numpy\n",
    "import numpy as np\n",
    "#assigning the data\n",
    "arr1 = np.array([[2,4,8],[3,6,9]])\n",
    "arr2 = np.array([[10,12,14],[12,15,18]])\n",
    "result=np.concatenate((arr1,arr2),axis=0)\n",
    "print(\"concatenated array along rows (axis=0):\\n\", result)"
   ]
  },
  {
   "cell_type": "code",
   "execution_count": 4,
   "id": "f6a1361c-3f44-4542-8474-2d49708f02a1",
   "metadata": {},
   "outputs": [
    {
     "name": "stdout",
     "output_type": "stream",
     "text": [
      "concatenate with axis=1\n",
      "[]\n"
     ]
    }
   ],
   "source": [
    "import numpy as np\n",
    "arr=np.array([[],[]])\n",
    "arr1=np.array([[],[]])\n",
    "can=np.concatenate ((arr,arr1),axis=1)\n",
    "print(\"concatenate with axis=1\")\n",
    "print(can)"
   ]
  },
  {
   "cell_type": "code",
   "execution_count": null,
   "id": "3cb45b04-93ea-43a9-9800-b24924e31a34",
   "metadata": {},
   "outputs": [],
   "source": []
  }
 ],
 "metadata": {
  "kernelspec": {
   "display_name": "Python 3 (ipykernel)",
   "language": "python",
   "name": "python3"
  },
  "language_info": {
   "codemirror_mode": {
    "name": "ipython",
    "version": 3
   },
   "file_extension": ".py",
   "mimetype": "text/x-python",
   "name": "python",
   "nbconvert_exporter": "python",
   "pygments_lexer": "ipython3",
   "version": "3.12.4"
  }
 },
 "nbformat": 4,
 "nbformat_minor": 5
}
