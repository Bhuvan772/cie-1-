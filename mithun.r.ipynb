{
 "cells": [
  {
   "cell_type": "code",
   "execution_count": 34,
   "id": "564ebe0f-aefd-4467-ab88-c83bc65bce39",
   "metadata": {},
   "outputs": [
    {
     "name": "stdout",
     "output_type": "stream",
     "text": [
      "Original array: [1 2 3 4 5]\n",
      "Reversed array: [5 2]\n"
     ]
    }
   ],
   "source": [
    "import numpy as np\n",
    "arr = np.array([1, 2, 3, 4, 5])\n",
    "# Reverse the array using slicing\n",
    "reversed_arr = arr[::-3]\n",
    "print(\"Original array:\", arr)\n",
    "print(\"Reversed array:\", reversed_arr)\n"
   ]
  },
  {
   "cell_type": "code",
   "execution_count": 28,
   "id": "7779a8c1-d177-4e4b-b214-3327e2f31ba4",
   "metadata": {},
   "outputs": [
    {
     "name": "stdout",
     "output_type": "stream",
     "text": [
      "Concatenated array along rows (axis 0):\n",
      " [[ 2  4  8]\n",
      " [ 3  6  9]\n",
      " [10 12 14]\n",
      " [12 15 18]]\n"
     ]
    }
   ],
   "source": [
    "import numpy as np\n",
    "\n",
    "# Create two 2D arrays with the same number of columns\n",
    "arr1 = np.array([[2, 4, 8],[3, 6, 9]])\n",
    "arr2 = np.array([[10, 12, 14],[12, 15, 18]])\n",
    "# Concatenate along rows (axis 0)\n",
    "result = np.concatenate((arr1, arr2), axis=0)\n",
    "\n",
    "print(\"Concatenated array along rows (axis 0):\\n\", result)\n",
    "   "
   ]
  },
  {
   "cell_type": "code",
   "execution_count": 33,
   "id": "9c9830b7-27ca-426d-a217-ed34468b051b",
   "metadata": {},
   "outputs": [
    {
     "name": "stdout",
     "output_type": "stream",
     "text": [
      "concatenate with axis=1\n",
      "[[2 6 6 9]\n",
      " [7 8 1 3]]\n"
     ]
    }
   ],
   "source": [
    "import numpy as np\n",
    "arr=np.array([[2,6],[7,8]])\n",
    "arr1=np.array([[6,9],[1,3]])\n",
    "can=np.concatenate ((arr,arr1),axis=1)\n",
    "print(\"concatenate with axis=1\")\n",
    "print(can)"
   ]
  },
  {
   "cell_type": "code",
   "execution_count": null,
   "id": "f9cab05e-43ec-4a27-bc7e-ed6e171abc05",
   "metadata": {},
   "outputs": [],
   "source": [
    "\n",
    "\n",
    "\n",
    "\n",
    "+++"
   ]
  }
 ],
 "metadata": {
  "kernelspec": {
   "display_name": "Python 3 (ipykernel)",
   "language": "python",
   "name": "python3"
  },
  "language_info": {
   "codemirror_mode": {
    "name": "ipython",
    "version": 3
   },
   "file_extension": ".py",
   "mimetype": "text/x-python",
   "name": "python",
   "nbconvert_exporter": "python",
   "pygments_lexer": "ipython3",
   "version": "3.12.4"
  }
 },
 "nbformat": 4,
 "nbformat_minor": 5
}
