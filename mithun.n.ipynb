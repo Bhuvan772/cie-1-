{
 "cells": [
  {
   "cell_type": "code",
   "execution_count": 12,
   "id": "3b9cad98-2356-4eec-a353-738d8245bfec",
   "metadata": {},
   "outputs": [
    {
     "name": "stdout",
     "output_type": "stream",
     "text": [
      "original array [ 1  2  3  4  5 20 21 27 31]\n",
      "reversed array [31 27 21 20  5  4  3  2  1]\n"
     ]
    }
   ],
   "source": [
    "#using numpy\n",
    "import numpy as np\n",
    "arr=np.array([1,2,3,4,5,20,21,27,31])\n",
    "#reversing the given data\n",
    "reversed_arr=arr[::-1]\n",
    "print(\"original array\", arr)\n",
    "print(\"reversed array\", reversed_arr)"
   ]
  },
  {
   "cell_type": "code",
   "execution_count": 7,
   "id": "1b8a3942-ffb1-4afe-b848-06e74d29b86e",
   "metadata": {},
   "outputs": [
    {
     "name": "stdout",
     "output_type": "stream",
     "text": [
      "concatenated array along rows (axis=0):\n",
      " [[ 2  4  8]\n",
      " [ 3  6  9]\n",
      " [10 12 14]\n",
      " [12 15 18]]\n"
     ]
    }
   ],
   "source": [
    "#using numpy\n",
    "import numpy as np\n",
    "#assigning the data\n",
    "arr1 = np.array([[2,4,8],[3,6,9]])\n",
    "arr2 = np.array([[10,12,14],[12,15,18]])\n",
    "result=np.concatenate((arr1,arr2),axis=0)\n",
    "print(\"concatenated array along rows (axis=0):\\n\", result)"
   ]
  },
  {
   "cell_type": "code",
   "execution_count": 15,
   "id": "baeac2e6-f222-4ee5-99d9-c8d6bc65832f",
   "metadata": {},
   "outputs": [
    {
     "name": "stdout",
     "output_type": "stream",
     "text": [
      "concatenate with axis\n",
      "[[ 1  5  8 19]\n",
      " [ 6  7 22 25]]\n"
     ]
    }
   ],
   "source": [
    "import numpy as np\n",
    "arr = np.array([[1,5],[6,7]])\n",
    "arr1 = np.array([[8,19],[22,25]])\n",
    "can = np.concatenate((arr,arr1),axis=1)\n",
    "print(\"concatenate with axis\")\n",
    "print(can)"
   ]
  },
  {
   "cell_type": "code",
   "execution_count": null,
   "id": "5f31a5c8-7620-4e3e-94a6-63982c056fba",
   "metadata": {},
   "outputs": [],
   "source": []
  }
 ],
 "metadata": {
  "kernelspec": {
   "display_name": "Python 3 (ipykernel)",
   "language": "python",
   "name": "python3"
  },
  "language_info": {
   "codemirror_mode": {
    "name": "ipython",
    "version": 3
   },
   "file_extension": ".py",
   "mimetype": "text/x-python",
   "name": "python",
   "nbconvert_exporter": "python",
   "pygments_lexer": "ipython3",
   "version": "3.12.4"
  }
 },
 "nbformat": 4,
 "nbformat_minor": 5
}
